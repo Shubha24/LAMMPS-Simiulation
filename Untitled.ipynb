{
 "cells": [
  {
   "cell_type": "code",
   "execution_count": 10,
   "id": "b0292d43",
   "metadata": {},
   "outputs": [],
   "source": [
    "import numpy as np"
   ]
  },
  {
   "cell_type": "code",
   "execution_count": 11,
   "id": "057f08bf",
   "metadata": {},
   "outputs": [],
   "source": [
    "#-------------------------------------------------------# \n",
    "# Generate LAMMPS data file using random atom positions #\n",
    "# \t\t\t\t\t\t\t\t\t\t\t\t\t\t#\n",
    "# \t- Bradley Huddleston, February 27, 2018\t\t\t\t#\n",
    "#-------------------------------------------------------#\n",
    "\n",
    "import numpy as np\n",
    "\n",
    "# Number of atoms to create\n",
    "natoms = 1000\n",
    "\n",
    "# Size of the system cell in Angstroms\n",
    "#\tassuming an cubic cell, starting at the origin\n",
    "system_size = 20.0\n",
    "\n",
    "# Generate atom positions\n",
    "#\tRandomness for amorphous glass\n",
    "positions = []\n",
    "for i in range(natoms):\n",
    "\tpositions.append(np.random.rand(3)*system_size)\n",
    "\t\n",
    "# Write LAMMPS data file\n",
    "with open('random.data','w') as fdata:\n",
    "\t# First line is a comment line \n",
    "\tfdata.write('Random atoms - written for EnCodeVentor tutorial\\n\\n')\n",
    "\t\n",
    "\t#--- Header ---#\n",
    "\t# Specify number of atoms and atom types \n",
    "\tfdata.write('{} atoms\\n'.format(natoms))\n",
    "\tfdata.write('{} atom types\\n'.format(1))\n",
    "\t# Specify box dimensions\n",
    "\tfdata.write('{} {} xlo xhi\\n'.format(0.0, system_size))\n",
    "\tfdata.write('{} {} ylo yhi\\n'.format(0.0, system_size))\n",
    "\tfdata.write('{} {} zlo zhi\\n'.format(0.0, system_size))\n",
    "\tfdata.write('\\n')\n",
    "\n",
    "\t# Atoms section\n",
    "\tfdata.write('Atoms\\n\\n')\n",
    "\n",
    "\t# Write each position \n",
    "\tfor i,pos in enumerate(positions):\n",
    "\t\tfdata.write('{} 1 {} {} {}\\n'.format(i+1,*pos))\n",
    "\t\t\n",
    "\t# If you have bonds and angles, further sections below\n",
    "\t"
   ]
  },
  {
   "cell_type": "code",
   "execution_count": null,
   "id": "7d382ba4",
   "metadata": {},
   "outputs": [],
   "source": []
  },
  {
   "cell_type": "code",
   "execution_count": null,
   "id": "07aee7bb",
   "metadata": {},
   "outputs": [],
   "source": []
  }
 ],
 "metadata": {
  "kernelspec": {
   "display_name": "Python 3 (ipykernel)",
   "language": "python",
   "name": "python3"
  },
  "language_info": {
   "codemirror_mode": {
    "name": "ipython",
    "version": 3
   },
   "file_extension": ".py",
   "mimetype": "text/x-python",
   "name": "python",
   "nbconvert_exporter": "python",
   "pygments_lexer": "ipython3",
   "version": "3.10.10"
  }
 },
 "nbformat": 4,
 "nbformat_minor": 5
}
